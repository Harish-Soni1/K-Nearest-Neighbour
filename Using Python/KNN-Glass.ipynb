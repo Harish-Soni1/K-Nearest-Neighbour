import pandas as pd
import numpy as np
import matplotlib.pyplot as plt
%matplotlib inline

glass=pd.read_csv("E:\\itsstudytym\\assignments\\KNN\\glass.csv")
glass.head()

X=glass.iloc[:,:-1]
y=glass['Type']

from sklearn.model_selection import train_test_split

X_train, X_test, y_train, y_test = train_test_split(X, y, test_size=0.3, random_state=50)

## UnserSampling

from imblearn.under_sampling import NearMiss
nm=NearMiss(version=1)
X_res,y_res=nm.fit_sample(X,y)

from sklearn.neighbors import KNeighborsClassifier

error=[]
for i in range(1,50):
    knn=KNeighborsClassifier(n_neighbors=i)
    knn.fit(X_res,y_res)
    pred_i=knn.predict(X_test)
    error.append(np.mean(pred_i != y_test))

plt.figure(figsize=(10,6))
plt.plot(range(1,50),error,color='blue',marker='o',markersize=10,linestyle='dashed',markerfacecolor='red')
plt.title('error vs k value')
plt.xlabel('K')
plt.ylabel('error')

## SMOTE

from imblearn.over_sampling import SMOTE

sm=SMOTE(random_state=2)

X_Res, y_Res = sm.fit_sample(X_train,y_train.ravel())

X_Res.shape

error=[]
for i in range(1,50):
    knn=KNeighborsClassifier(n_neighbors=i)
    knn.fit(X_Res,y_Res)
    pred_i=knn.predict(X_test)
    error.append(np.mean(pred_i != y_test))

plt.figure(figsize=(10,6))
plt.plot(range(1,50),error,color='blue',marker='o',markersize=10,linestyle='dashed',markerfacecolor='red')
plt.title('error vs k value')
plt.xlabel('K')
plt.ylabel('error')

knn=KNeighborsClassifier(n_neighbors=5)

knn.fit(X_Res,y_Res)

pred=knn.predict(X_test)

from sklearn.metrics import classification_report, accuracy_score

accuracy_score(y_test,pred)

classification_report(y_test,pred)
