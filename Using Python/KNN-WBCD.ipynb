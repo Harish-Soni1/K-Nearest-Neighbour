{
 "cells": [
  {
   "cell_type": "code",
   "execution_count": 1,
   "metadata": {},
   "outputs": [],
   "source": [
    "import pandas as pd\n",
    "import numpy as np\n",
    "import matplotlib.pyplot as plt\n",
    "import seaborn as sbn\n",
    "%matplotlib inline\n",
    "from sklearn.preprocessing import StandardScaler "
   ]
  },
  {
   "cell_type": "code",
   "execution_count": 2,
   "metadata": {},
   "outputs": [
    {
     "data": {
      "text/html": [
       "<div>\n",
       "<style scoped>\n",
       "    .dataframe tbody tr th:only-of-type {\n",
       "        vertical-align: middle;\n",
       "    }\n",
       "\n",
       "    .dataframe tbody tr th {\n",
       "        vertical-align: top;\n",
       "    }\n",
       "\n",
       "    .dataframe thead th {\n",
       "        text-align: right;\n",
       "    }\n",
       "</style>\n",
       "<table border=\"1\" class=\"dataframe\">\n",
       "  <thead>\n",
       "    <tr style=\"text-align: right;\">\n",
       "      <th></th>\n",
       "      <th>diagnosis</th>\n",
       "      <th>radius_mean</th>\n",
       "      <th>texture_mean</th>\n",
       "      <th>perimeter_mean</th>\n",
       "      <th>area_mean</th>\n",
       "      <th>smoothness_mean</th>\n",
       "      <th>compactness_mean</th>\n",
       "      <th>concavity_mean</th>\n",
       "      <th>points_mean</th>\n",
       "      <th>symmetry_mean</th>\n",
       "      <th>...</th>\n",
       "      <th>radius_worst</th>\n",
       "      <th>texture_worst</th>\n",
       "      <th>perimeter_worst</th>\n",
       "      <th>area_worst</th>\n",
       "      <th>smoothness_worst</th>\n",
       "      <th>compactness_worst</th>\n",
       "      <th>concavity_worst</th>\n",
       "      <th>points_worst</th>\n",
       "      <th>symmetry_worst</th>\n",
       "      <th>dimension_worst</th>\n",
       "    </tr>\n",
       "  </thead>\n",
       "  <tbody>\n",
       "    <tr>\n",
       "      <th>0</th>\n",
       "      <td>B</td>\n",
       "      <td>0.252686</td>\n",
       "      <td>0.090632</td>\n",
       "      <td>0.242278</td>\n",
       "      <td>0.135992</td>\n",
       "      <td>0.452920</td>\n",
       "      <td>0.154684</td>\n",
       "      <td>0.093416</td>\n",
       "      <td>0.183897</td>\n",
       "      <td>0.454040</td>\n",
       "      <td>...</td>\n",
       "      <td>0.198150</td>\n",
       "      <td>0.096482</td>\n",
       "      <td>0.182081</td>\n",
       "      <td>0.089437</td>\n",
       "      <td>0.444628</td>\n",
       "      <td>0.096351</td>\n",
       "      <td>0.099201</td>\n",
       "      <td>0.322715</td>\n",
       "      <td>0.248768</td>\n",
       "      <td>0.083104</td>\n",
       "    </tr>\n",
       "    <tr>\n",
       "      <th>1</th>\n",
       "      <td>B</td>\n",
       "      <td>0.171281</td>\n",
       "      <td>0.312479</td>\n",
       "      <td>0.176145</td>\n",
       "      <td>0.086066</td>\n",
       "      <td>0.399476</td>\n",
       "      <td>0.292375</td>\n",
       "      <td>0.149649</td>\n",
       "      <td>0.131312</td>\n",
       "      <td>0.435354</td>\n",
       "      <td>...</td>\n",
       "      <td>0.140519</td>\n",
       "      <td>0.291045</td>\n",
       "      <td>0.138802</td>\n",
       "      <td>0.058887</td>\n",
       "      <td>0.331044</td>\n",
       "      <td>0.217530</td>\n",
       "      <td>0.153035</td>\n",
       "      <td>0.272371</td>\n",
       "      <td>0.271043</td>\n",
       "      <td>0.136626</td>\n",
       "    </tr>\n",
       "    <tr>\n",
       "      <th>2</th>\n",
       "      <td>B</td>\n",
       "      <td>0.192106</td>\n",
       "      <td>0.240785</td>\n",
       "      <td>0.187478</td>\n",
       "      <td>0.097434</td>\n",
       "      <td>0.497156</td>\n",
       "      <td>0.179928</td>\n",
       "      <td>0.071368</td>\n",
       "      <td>0.123260</td>\n",
       "      <td>0.330303</td>\n",
       "      <td>...</td>\n",
       "      <td>0.159374</td>\n",
       "      <td>0.384328</td>\n",
       "      <td>0.147019</td>\n",
       "      <td>0.070340</td>\n",
       "      <td>0.434062</td>\n",
       "      <td>0.117307</td>\n",
       "      <td>0.085224</td>\n",
       "      <td>0.255361</td>\n",
       "      <td>0.282476</td>\n",
       "      <td>0.155910</td>\n",
       "    </tr>\n",
       "    <tr>\n",
       "      <th>3</th>\n",
       "      <td>B</td>\n",
       "      <td>0.203464</td>\n",
       "      <td>0.124450</td>\n",
       "      <td>0.201852</td>\n",
       "      <td>0.102354</td>\n",
       "      <td>0.575697</td>\n",
       "      <td>0.289001</td>\n",
       "      <td>0.108599</td>\n",
       "      <td>0.238370</td>\n",
       "      <td>0.359091</td>\n",
       "      <td>...</td>\n",
       "      <td>0.141942</td>\n",
       "      <td>0.099947</td>\n",
       "      <td>0.130086</td>\n",
       "      <td>0.061148</td>\n",
       "      <td>0.432741</td>\n",
       "      <td>0.150294</td>\n",
       "      <td>0.069241</td>\n",
       "      <td>0.295911</td>\n",
       "      <td>0.105855</td>\n",
       "      <td>0.083956</td>\n",
       "    </tr>\n",
       "    <tr>\n",
       "      <th>4</th>\n",
       "      <td>B</td>\n",
       "      <td>0.388518</td>\n",
       "      <td>0.118363</td>\n",
       "      <td>0.372193</td>\n",
       "      <td>0.241060</td>\n",
       "      <td>0.243748</td>\n",
       "      <td>0.153242</td>\n",
       "      <td>0.079499</td>\n",
       "      <td>0.132058</td>\n",
       "      <td>0.333838</td>\n",
       "      <td>...</td>\n",
       "      <td>0.294201</td>\n",
       "      <td>0.098881</td>\n",
       "      <td>0.269386</td>\n",
       "      <td>0.155795</td>\n",
       "      <td>0.273592</td>\n",
       "      <td>0.142048</td>\n",
       "      <td>0.108786</td>\n",
       "      <td>0.281031</td>\n",
       "      <td>0.181747</td>\n",
       "      <td>0.082776</td>\n",
       "    </tr>\n",
       "  </tbody>\n",
       "</table>\n",
       "<p>5 rows × 31 columns</p>\n",
       "</div>"
      ],
      "text/plain": [
       "  diagnosis  radius_mean  texture_mean  perimeter_mean  area_mean  \\\n",
       "0         B     0.252686      0.090632        0.242278   0.135992   \n",
       "1         B     0.171281      0.312479        0.176145   0.086066   \n",
       "2         B     0.192106      0.240785        0.187478   0.097434   \n",
       "3         B     0.203464      0.124450        0.201852   0.102354   \n",
       "4         B     0.388518      0.118363        0.372193   0.241060   \n",
       "\n",
       "   smoothness_mean  compactness_mean  concavity_mean  points_mean  \\\n",
       "0         0.452920          0.154684        0.093416     0.183897   \n",
       "1         0.399476          0.292375        0.149649     0.131312   \n",
       "2         0.497156          0.179928        0.071368     0.123260   \n",
       "3         0.575697          0.289001        0.108599     0.238370   \n",
       "4         0.243748          0.153242        0.079499     0.132058   \n",
       "\n",
       "   symmetry_mean  ...  radius_worst  texture_worst  perimeter_worst  \\\n",
       "0       0.454040  ...      0.198150       0.096482         0.182081   \n",
       "1       0.435354  ...      0.140519       0.291045         0.138802   \n",
       "2       0.330303  ...      0.159374       0.384328         0.147019   \n",
       "3       0.359091  ...      0.141942       0.099947         0.130086   \n",
       "4       0.333838  ...      0.294201       0.098881         0.269386   \n",
       "\n",
       "   area_worst  smoothness_worst  compactness_worst  concavity_worst  \\\n",
       "0    0.089437          0.444628           0.096351         0.099201   \n",
       "1    0.058887          0.331044           0.217530         0.153035   \n",
       "2    0.070340          0.434062           0.117307         0.085224   \n",
       "3    0.061148          0.432741           0.150294         0.069241   \n",
       "4    0.155795          0.273592           0.142048         0.108786   \n",
       "\n",
       "   points_worst  symmetry_worst  dimension_worst  \n",
       "0      0.322715        0.248768         0.083104  \n",
       "1      0.272371        0.271043         0.136626  \n",
       "2      0.255361        0.282476         0.155910  \n",
       "3      0.295911        0.105855         0.083956  \n",
       "4      0.281031        0.181747         0.082776  \n",
       "\n",
       "[5 rows x 31 columns]"
      ]
     },
     "execution_count": 2,
     "metadata": {},
     "output_type": "execute_result"
    }
   ],
   "source": [
    "wbcd=pd.read_csv(\"C:\\\\Users\\\\sonih\\\\Downloads\\\\wbcd_new.csv\")\n",
    "wbcd.head()"
   ]
  },
  {
   "cell_type": "code",
   "execution_count": 3,
   "metadata": {},
   "outputs": [],
   "source": [
    "scale=StandardScaler()"
   ]
  },
  {
   "cell_type": "code",
   "execution_count": 4,
   "metadata": {},
   "outputs": [
    {
     "data": {
      "text/html": [
       "<div>\n",
       "<style scoped>\n",
       "    .dataframe tbody tr th:only-of-type {\n",
       "        vertical-align: middle;\n",
       "    }\n",
       "\n",
       "    .dataframe tbody tr th {\n",
       "        vertical-align: top;\n",
       "    }\n",
       "\n",
       "    .dataframe thead th {\n",
       "        text-align: right;\n",
       "    }\n",
       "</style>\n",
       "<table border=\"1\" class=\"dataframe\">\n",
       "  <thead>\n",
       "    <tr style=\"text-align: right;\">\n",
       "      <th></th>\n",
       "      <th>diagnosis</th>\n",
       "      <th>radius_mean</th>\n",
       "      <th>texture_mean</th>\n",
       "      <th>perimeter_mean</th>\n",
       "      <th>area_mean</th>\n",
       "      <th>smoothness_mean</th>\n",
       "      <th>compactness_mean</th>\n",
       "      <th>concavity_mean</th>\n",
       "      <th>points_mean</th>\n",
       "      <th>symmetry_mean</th>\n",
       "      <th>...</th>\n",
       "      <th>radius_worst</th>\n",
       "      <th>texture_worst</th>\n",
       "      <th>perimeter_worst</th>\n",
       "      <th>area_worst</th>\n",
       "      <th>smoothness_worst</th>\n",
       "      <th>compactness_worst</th>\n",
       "      <th>concavity_worst</th>\n",
       "      <th>points_worst</th>\n",
       "      <th>symmetry_worst</th>\n",
       "      <th>dimension_worst</th>\n",
       "    </tr>\n",
       "  </thead>\n",
       "  <tbody>\n",
       "    <tr>\n",
       "      <th>0</th>\n",
       "      <td>B</td>\n",
       "      <td>-0.513297</td>\n",
       "      <td>-1.605595</td>\n",
       "      <td>-0.540376</td>\n",
       "      <td>-0.542624</td>\n",
       "      <td>0.458285</td>\n",
       "      <td>-0.654413</td>\n",
       "      <td>-0.614306</td>\n",
       "      <td>-0.307442</td>\n",
       "      <td>0.538081</td>\n",
       "      <td>...</td>\n",
       "      <td>-0.573451</td>\n",
       "      <td>-1.634499</td>\n",
       "      <td>-0.604391</td>\n",
       "      <td>-0.582718</td>\n",
       "      <td>0.268776</td>\n",
       "      <td>-0.812128</td>\n",
       "      <td>-0.709978</td>\n",
       "      <td>-0.315133</td>\n",
       "      <td>-0.119321</td>\n",
       "      <td>-0.899721</td>\n",
       "    </tr>\n",
       "    <tr>\n",
       "      <th>1</th>\n",
       "      <td>B</td>\n",
       "      <td>-1.001801</td>\n",
       "      <td>-0.079038</td>\n",
       "      <td>-0.934566</td>\n",
       "      <td>-0.877375</td>\n",
       "      <td>0.036986</td>\n",
       "      <td>0.196319</td>\n",
       "      <td>-0.312987</td>\n",
       "      <td>-0.580343</td>\n",
       "      <td>0.402996</td>\n",
       "      <td>...</td>\n",
       "      <td>-0.908925</td>\n",
       "      <td>-0.445740</td>\n",
       "      <td>-0.863230</td>\n",
       "      <td>-0.801227</td>\n",
       "      <td>-0.485202</td>\n",
       "      <td>-0.017590</td>\n",
       "      <td>-0.386625</td>\n",
       "      <td>-0.538203</td>\n",
       "      <td>0.063489</td>\n",
       "      <td>-0.447528</td>\n",
       "    </tr>\n",
       "    <tr>\n",
       "      <th>2</th>\n",
       "      <td>B</td>\n",
       "      <td>-0.876835</td>\n",
       "      <td>-0.572377</td>\n",
       "      <td>-0.867014</td>\n",
       "      <td>-0.801153</td>\n",
       "      <td>0.806996</td>\n",
       "      <td>-0.498443</td>\n",
       "      <td>-0.732448</td>\n",
       "      <td>-0.622129</td>\n",
       "      <td>-0.356400</td>\n",
       "      <td>...</td>\n",
       "      <td>-0.799171</td>\n",
       "      <td>0.124213</td>\n",
       "      <td>-0.814083</td>\n",
       "      <td>-0.719308</td>\n",
       "      <td>0.198638</td>\n",
       "      <td>-0.674722</td>\n",
       "      <td>-0.793935</td>\n",
       "      <td>-0.613574</td>\n",
       "      <td>0.157320</td>\n",
       "      <td>-0.284606</td>\n",
       "    </tr>\n",
       "    <tr>\n",
       "      <th>3</th>\n",
       "      <td>B</td>\n",
       "      <td>-0.808671</td>\n",
       "      <td>-1.372888</td>\n",
       "      <td>-0.781338</td>\n",
       "      <td>-0.768161</td>\n",
       "      <td>1.426135</td>\n",
       "      <td>0.175472</td>\n",
       "      <td>-0.532950</td>\n",
       "      <td>-0.024740</td>\n",
       "      <td>-0.148296</td>\n",
       "      <td>...</td>\n",
       "      <td>-0.900641</td>\n",
       "      <td>-1.613330</td>\n",
       "      <td>-0.915355</td>\n",
       "      <td>-0.785054</td>\n",
       "      <td>0.189871</td>\n",
       "      <td>-0.458434</td>\n",
       "      <td>-0.889933</td>\n",
       "      <td>-0.433901</td>\n",
       "      <td>-1.292212</td>\n",
       "      <td>-0.892517</td>\n",
       "    </tr>\n",
       "    <tr>\n",
       "      <th>4</th>\n",
       "      <td>B</td>\n",
       "      <td>0.301824</td>\n",
       "      <td>-1.414775</td>\n",
       "      <td>0.234000</td>\n",
       "      <td>0.161860</td>\n",
       "      <td>-1.190618</td>\n",
       "      <td>-0.663320</td>\n",
       "      <td>-0.688883</td>\n",
       "      <td>-0.576473</td>\n",
       "      <td>-0.330843</td>\n",
       "      <td>...</td>\n",
       "      <td>-0.014328</td>\n",
       "      <td>-1.619844</td>\n",
       "      <td>-0.082245</td>\n",
       "      <td>-0.108082</td>\n",
       "      <td>-0.866574</td>\n",
       "      <td>-0.512506</td>\n",
       "      <td>-0.652408</td>\n",
       "      <td>-0.499832</td>\n",
       "      <td>-0.669366</td>\n",
       "      <td>-0.902492</td>\n",
       "    </tr>\n",
       "  </tbody>\n",
       "</table>\n",
       "<p>5 rows × 31 columns</p>\n",
       "</div>"
      ],
      "text/plain": [
       "  diagnosis  radius_mean  texture_mean  perimeter_mean  area_mean  \\\n",
       "0         B    -0.513297     -1.605595       -0.540376  -0.542624   \n",
       "1         B    -1.001801     -0.079038       -0.934566  -0.877375   \n",
       "2         B    -0.876835     -0.572377       -0.867014  -0.801153   \n",
       "3         B    -0.808671     -1.372888       -0.781338  -0.768161   \n",
       "4         B     0.301824     -1.414775        0.234000   0.161860   \n",
       "\n",
       "   smoothness_mean  compactness_mean  concavity_mean  points_mean  \\\n",
       "0         0.458285         -0.654413       -0.614306    -0.307442   \n",
       "1         0.036986          0.196319       -0.312987    -0.580343   \n",
       "2         0.806996         -0.498443       -0.732448    -0.622129   \n",
       "3         1.426135          0.175472       -0.532950    -0.024740   \n",
       "4        -1.190618         -0.663320       -0.688883    -0.576473   \n",
       "\n",
       "   symmetry_mean  ...  radius_worst  texture_worst  perimeter_worst  \\\n",
       "0       0.538081  ...     -0.573451      -1.634499        -0.604391   \n",
       "1       0.402996  ...     -0.908925      -0.445740        -0.863230   \n",
       "2      -0.356400  ...     -0.799171       0.124213        -0.814083   \n",
       "3      -0.148296  ...     -0.900641      -1.613330        -0.915355   \n",
       "4      -0.330843  ...     -0.014328      -1.619844        -0.082245   \n",
       "\n",
       "   area_worst  smoothness_worst  compactness_worst  concavity_worst  \\\n",
       "0   -0.582718          0.268776          -0.812128        -0.709978   \n",
       "1   -0.801227         -0.485202          -0.017590        -0.386625   \n",
       "2   -0.719308          0.198638          -0.674722        -0.793935   \n",
       "3   -0.785054          0.189871          -0.458434        -0.889933   \n",
       "4   -0.108082         -0.866574          -0.512506        -0.652408   \n",
       "\n",
       "   points_worst  symmetry_worst  dimension_worst  \n",
       "0     -0.315133       -0.119321        -0.899721  \n",
       "1     -0.538203        0.063489        -0.447528  \n",
       "2     -0.613574        0.157320        -0.284606  \n",
       "3     -0.433901       -1.292212        -0.892517  \n",
       "4     -0.499832       -0.669366        -0.902492  \n",
       "\n",
       "[5 rows x 31 columns]"
      ]
     },
     "execution_count": 4,
     "metadata": {},
     "output_type": "execute_result"
    }
   ],
   "source": [
    "scale.fit(wbcd.iloc[:,1:])\n",
    "wbcd.iloc[:,1:]=scale.transform(wbcd.iloc[:,1:])\n",
    "wbcd.head()"
   ]
  },
  {
   "cell_type": "code",
   "execution_count": 5,
   "metadata": {},
   "outputs": [],
   "source": [
    "X=wbcd.iloc[:,1:]\n",
    "y=wbcd.iloc[:,:1]"
   ]
  },
  {
   "cell_type": "code",
   "execution_count": 6,
   "metadata": {},
   "outputs": [],
   "source": [
    "from sklearn.model_selection import train_test_split"
   ]
  },
  {
   "cell_type": "code",
   "execution_count": 7,
   "metadata": {},
   "outputs": [],
   "source": [
    "X_train, X_test, y_train, y_test = train_test_split(X, y, test_size=0.3, random_state=False)"
   ]
  },
  {
   "cell_type": "code",
   "execution_count": 8,
   "metadata": {},
   "outputs": [],
   "source": [
    "from sklearn.neighbors import KNeighborsClassifier"
   ]
  },
  {
   "cell_type": "code",
   "execution_count": 9,
   "metadata": {},
   "outputs": [],
   "source": [
    "knn=KNeighborsClassifier(n_neighbors=1)"
   ]
  },
  {
   "cell_type": "code",
   "execution_count": 10,
   "metadata": {},
   "outputs": [
    {
     "name": "stderr",
     "output_type": "stream",
     "text": [
      "C:\\Users\\sonih\\anaconda3\\lib\\site-packages\\ipykernel_launcher.py:1: DataConversionWarning: A column-vector y was passed when a 1d array was expected. Please change the shape of y to (n_samples, ), for example using ravel().\n",
      "  \"\"\"Entry point for launching an IPython kernel.\n"
     ]
    },
    {
     "data": {
      "text/plain": [
       "KNeighborsClassifier(algorithm='auto', leaf_size=30, metric='minkowski',\n",
       "                     metric_params=None, n_jobs=None, n_neighbors=1, p=2,\n",
       "                     weights='uniform')"
      ]
     },
     "execution_count": 10,
     "metadata": {},
     "output_type": "execute_result"
    }
   ],
   "source": [
    "knn.fit(X_train,y_train)"
   ]
  },
  {
   "cell_type": "code",
   "execution_count": 11,
   "metadata": {},
   "outputs": [],
   "source": [
    "y_pred=knn.predict(X_test)"
   ]
  },
  {
   "cell_type": "code",
   "execution_count": 12,
   "metadata": {},
   "outputs": [],
   "source": [
    "from sklearn.metrics import classification_report, confusion_matrix, accuracy_score"
   ]
  },
  {
   "cell_type": "code",
   "execution_count": 13,
   "metadata": {},
   "outputs": [
    {
     "data": {
      "text/plain": [
       "'              precision    recall  f1-score   support\\n\\n           B       0.96      0.96      0.96       113\\n           M       0.92      0.93      0.92        58\\n\\n    accuracy                           0.95       171\\n   macro avg       0.94      0.94      0.94       171\\nweighted avg       0.95      0.95      0.95       171\\n'"
      ]
     },
     "execution_count": 13,
     "metadata": {},
     "output_type": "execute_result"
    }
   ],
   "source": [
    "classification_report(y_test,y_pred)"
   ]
  },
  {
   "cell_type": "code",
   "execution_count": 14,
   "metadata": {},
   "outputs": [
    {
     "data": {
      "text/plain": [
       "array([[108,   5],\n",
       "       [  4,  54]], dtype=int64)"
      ]
     },
     "execution_count": 14,
     "metadata": {},
     "output_type": "execute_result"
    }
   ],
   "source": [
    "cm=confusion_matrix(y_test,y_pred)\n",
    "cm"
   ]
  },
  {
   "cell_type": "code",
   "execution_count": 15,
   "metadata": {},
   "outputs": [
    {
     "data": {
      "text/plain": [
       "0.9473684210526315"
      ]
     },
     "execution_count": 15,
     "metadata": {},
     "output_type": "execute_result"
    }
   ],
   "source": [
    "accuracy_score(y_test,y_pred)"
   ]
  },
  {
   "cell_type": "code",
   "execution_count": 23,
   "metadata": {},
   "outputs": [],
   "source": [
    "y_test=np.array(y_test)"
   ]
  },
  {
   "cell_type": "code",
   "execution_count": 24,
   "metadata": {},
   "outputs": [
    {
     "data": {
      "text/plain": [
       "array(['M', 'M', 'B', 'B', 'B', 'M', 'M', 'M', 'B', 'B', 'M', 'B', 'B',\n",
       "       'M', 'B', 'M', 'B', 'M', 'B', 'B', 'M', 'B', 'M', 'M', 'B', 'B',\n",
       "       'B', 'M', 'B', 'B', 'B', 'B', 'B', 'B', 'M', 'M', 'B', 'M', 'B',\n",
       "       'B', 'B', 'M', 'M', 'B', 'B', 'B', 'B', 'B', 'M', 'B', 'B', 'M',\n",
       "       'B', 'B', 'B', 'M', 'B', 'M', 'B', 'B', 'M', 'B', 'M', 'B', 'B',\n",
       "       'B', 'B', 'B', 'B', 'B', 'B', 'B', 'B', 'B', 'M', 'B', 'B', 'B',\n",
       "       'B', 'B', 'M', 'B', 'M', 'B', 'B', 'M', 'B', 'B', 'M', 'B', 'B',\n",
       "       'M', 'B', 'B', 'B', 'M', 'B', 'B', 'B', 'M', 'B', 'B', 'M', 'M',\n",
       "       'B', 'B', 'B', 'M', 'B', 'B', 'B', 'B', 'M', 'M', 'M', 'B', 'B',\n",
       "       'B', 'M', 'B', 'B', 'M', 'M', 'B', 'M', 'B', 'B', 'M', 'B', 'B',\n",
       "       'M', 'B', 'M', 'B', 'B', 'B', 'B', 'M', 'M', 'M', 'M', 'M', 'B',\n",
       "       'B', 'B', 'B', 'B', 'M', 'B', 'B', 'B', 'M', 'B', 'B', 'B', 'B',\n",
       "       'B', 'M', 'M', 'B', 'B', 'M', 'B', 'B', 'B', 'B', 'M', 'M', 'B',\n",
       "       'M', 'B'], dtype=object)"
      ]
     },
     "execution_count": 24,
     "metadata": {},
     "output_type": "execute_result"
    }
   ],
   "source": [
    "y_test.reshape(171)"
   ]
  },
  {
   "cell_type": "code",
   "execution_count": 25,
   "metadata": {},
   "outputs": [
    {
     "name": "stderr",
     "output_type": "stream",
     "text": [
      "C:\\Users\\sonih\\anaconda3\\lib\\site-packages\\ipykernel_launcher.py:4: DataConversionWarning: A column-vector y was passed when a 1d array was expected. Please change the shape of y to (n_samples, ), for example using ravel().\n",
      "  after removing the cwd from sys.path.\n",
      "C:\\Users\\sonih\\anaconda3\\lib\\site-packages\\ipykernel_launcher.py:4: DataConversionWarning: A column-vector y was passed when a 1d array was expected. Please change the shape of y to (n_samples, ), for example using ravel().\n",
      "  after removing the cwd from sys.path.\n",
      "C:\\Users\\sonih\\anaconda3\\lib\\site-packages\\ipykernel_launcher.py:4: DataConversionWarning: A column-vector y was passed when a 1d array was expected. Please change the shape of y to (n_samples, ), for example using ravel().\n",
      "  after removing the cwd from sys.path.\n",
      "C:\\Users\\sonih\\anaconda3\\lib\\site-packages\\ipykernel_launcher.py:4: DataConversionWarning: A column-vector y was passed when a 1d array was expected. Please change the shape of y to (n_samples, ), for example using ravel().\n",
      "  after removing the cwd from sys.path.\n",
      "C:\\Users\\sonih\\anaconda3\\lib\\site-packages\\ipykernel_launcher.py:4: DataConversionWarning: A column-vector y was passed when a 1d array was expected. Please change the shape of y to (n_samples, ), for example using ravel().\n",
      "  after removing the cwd from sys.path.\n",
      "C:\\Users\\sonih\\anaconda3\\lib\\site-packages\\ipykernel_launcher.py:4: DataConversionWarning: A column-vector y was passed when a 1d array was expected. Please change the shape of y to (n_samples, ), for example using ravel().\n",
      "  after removing the cwd from sys.path.\n",
      "C:\\Users\\sonih\\anaconda3\\lib\\site-packages\\ipykernel_launcher.py:4: DataConversionWarning: A column-vector y was passed when a 1d array was expected. Please change the shape of y to (n_samples, ), for example using ravel().\n",
      "  after removing the cwd from sys.path.\n",
      "C:\\Users\\sonih\\anaconda3\\lib\\site-packages\\ipykernel_launcher.py:4: DataConversionWarning: A column-vector y was passed when a 1d array was expected. Please change the shape of y to (n_samples, ), for example using ravel().\n",
      "  after removing the cwd from sys.path.\n",
      "C:\\Users\\sonih\\anaconda3\\lib\\site-packages\\ipykernel_launcher.py:4: DataConversionWarning: A column-vector y was passed when a 1d array was expected. Please change the shape of y to (n_samples, ), for example using ravel().\n",
      "  after removing the cwd from sys.path.\n",
      "C:\\Users\\sonih\\anaconda3\\lib\\site-packages\\ipykernel_launcher.py:4: DataConversionWarning: A column-vector y was passed when a 1d array was expected. Please change the shape of y to (n_samples, ), for example using ravel().\n",
      "  after removing the cwd from sys.path.\n",
      "C:\\Users\\sonih\\anaconda3\\lib\\site-packages\\ipykernel_launcher.py:4: DataConversionWarning: A column-vector y was passed when a 1d array was expected. Please change the shape of y to (n_samples, ), for example using ravel().\n",
      "  after removing the cwd from sys.path.\n",
      "C:\\Users\\sonih\\anaconda3\\lib\\site-packages\\ipykernel_launcher.py:4: DataConversionWarning: A column-vector y was passed when a 1d array was expected. Please change the shape of y to (n_samples, ), for example using ravel().\n",
      "  after removing the cwd from sys.path.\n",
      "C:\\Users\\sonih\\anaconda3\\lib\\site-packages\\ipykernel_launcher.py:4: DataConversionWarning: A column-vector y was passed when a 1d array was expected. Please change the shape of y to (n_samples, ), for example using ravel().\n",
      "  after removing the cwd from sys.path.\n",
      "C:\\Users\\sonih\\anaconda3\\lib\\site-packages\\ipykernel_launcher.py:4: DataConversionWarning: A column-vector y was passed when a 1d array was expected. Please change the shape of y to (n_samples, ), for example using ravel().\n",
      "  after removing the cwd from sys.path.\n",
      "C:\\Users\\sonih\\anaconda3\\lib\\site-packages\\ipykernel_launcher.py:4: DataConversionWarning: A column-vector y was passed when a 1d array was expected. Please change the shape of y to (n_samples, ), for example using ravel().\n",
      "  after removing the cwd from sys.path.\n",
      "C:\\Users\\sonih\\anaconda3\\lib\\site-packages\\ipykernel_launcher.py:4: DataConversionWarning: A column-vector y was passed when a 1d array was expected. Please change the shape of y to (n_samples, ), for example using ravel().\n",
      "  after removing the cwd from sys.path.\n",
      "C:\\Users\\sonih\\anaconda3\\lib\\site-packages\\ipykernel_launcher.py:4: DataConversionWarning: A column-vector y was passed when a 1d array was expected. Please change the shape of y to (n_samples, ), for example using ravel().\n",
      "  after removing the cwd from sys.path.\n",
      "C:\\Users\\sonih\\anaconda3\\lib\\site-packages\\ipykernel_launcher.py:4: DataConversionWarning: A column-vector y was passed when a 1d array was expected. Please change the shape of y to (n_samples, ), for example using ravel().\n",
      "  after removing the cwd from sys.path.\n",
      "C:\\Users\\sonih\\anaconda3\\lib\\site-packages\\ipykernel_launcher.py:4: DataConversionWarning: A column-vector y was passed when a 1d array was expected. Please change the shape of y to (n_samples, ), for example using ravel().\n",
      "  after removing the cwd from sys.path.\n",
      "C:\\Users\\sonih\\anaconda3\\lib\\site-packages\\ipykernel_launcher.py:4: DataConversionWarning: A column-vector y was passed when a 1d array was expected. Please change the shape of y to (n_samples, ), for example using ravel().\n",
      "  after removing the cwd from sys.path.\n",
      "C:\\Users\\sonih\\anaconda3\\lib\\site-packages\\ipykernel_launcher.py:4: DataConversionWarning: A column-vector y was passed when a 1d array was expected. Please change the shape of y to (n_samples, ), for example using ravel().\n",
      "  after removing the cwd from sys.path.\n",
      "C:\\Users\\sonih\\anaconda3\\lib\\site-packages\\ipykernel_launcher.py:4: DataConversionWarning: A column-vector y was passed when a 1d array was expected. Please change the shape of y to (n_samples, ), for example using ravel().\n",
      "  after removing the cwd from sys.path.\n",
      "C:\\Users\\sonih\\anaconda3\\lib\\site-packages\\ipykernel_launcher.py:4: DataConversionWarning: A column-vector y was passed when a 1d array was expected. Please change the shape of y to (n_samples, ), for example using ravel().\n",
      "  after removing the cwd from sys.path.\n",
      "C:\\Users\\sonih\\anaconda3\\lib\\site-packages\\ipykernel_launcher.py:4: DataConversionWarning: A column-vector y was passed when a 1d array was expected. Please change the shape of y to (n_samples, ), for example using ravel().\n",
      "  after removing the cwd from sys.path.\n",
      "C:\\Users\\sonih\\anaconda3\\lib\\site-packages\\ipykernel_launcher.py:4: DataConversionWarning: A column-vector y was passed when a 1d array was expected. Please change the shape of y to (n_samples, ), for example using ravel().\n",
      "  after removing the cwd from sys.path.\n",
      "C:\\Users\\sonih\\anaconda3\\lib\\site-packages\\ipykernel_launcher.py:4: DataConversionWarning: A column-vector y was passed when a 1d array was expected. Please change the shape of y to (n_samples, ), for example using ravel().\n",
      "  after removing the cwd from sys.path.\n",
      "C:\\Users\\sonih\\anaconda3\\lib\\site-packages\\ipykernel_launcher.py:4: DataConversionWarning: A column-vector y was passed when a 1d array was expected. Please change the shape of y to (n_samples, ), for example using ravel().\n",
      "  after removing the cwd from sys.path.\n",
      "C:\\Users\\sonih\\anaconda3\\lib\\site-packages\\ipykernel_launcher.py:4: DataConversionWarning: A column-vector y was passed when a 1d array was expected. Please change the shape of y to (n_samples, ), for example using ravel().\n",
      "  after removing the cwd from sys.path.\n",
      "C:\\Users\\sonih\\anaconda3\\lib\\site-packages\\ipykernel_launcher.py:4: DataConversionWarning: A column-vector y was passed when a 1d array was expected. Please change the shape of y to (n_samples, ), for example using ravel().\n",
      "  after removing the cwd from sys.path.\n",
      "C:\\Users\\sonih\\anaconda3\\lib\\site-packages\\ipykernel_launcher.py:4: DataConversionWarning: A column-vector y was passed when a 1d array was expected. Please change the shape of y to (n_samples, ), for example using ravel().\n",
      "  after removing the cwd from sys.path.\n",
      "C:\\Users\\sonih\\anaconda3\\lib\\site-packages\\ipykernel_launcher.py:4: DataConversionWarning: A column-vector y was passed when a 1d array was expected. Please change the shape of y to (n_samples, ), for example using ravel().\n",
      "  after removing the cwd from sys.path.\n",
      "C:\\Users\\sonih\\anaconda3\\lib\\site-packages\\ipykernel_launcher.py:4: DataConversionWarning: A column-vector y was passed when a 1d array was expected. Please change the shape of y to (n_samples, ), for example using ravel().\n",
      "  after removing the cwd from sys.path.\n",
      "C:\\Users\\sonih\\anaconda3\\lib\\site-packages\\ipykernel_launcher.py:4: DataConversionWarning: A column-vector y was passed when a 1d array was expected. Please change the shape of y to (n_samples, ), for example using ravel().\n",
      "  after removing the cwd from sys.path.\n",
      "C:\\Users\\sonih\\anaconda3\\lib\\site-packages\\ipykernel_launcher.py:4: DataConversionWarning: A column-vector y was passed when a 1d array was expected. Please change the shape of y to (n_samples, ), for example using ravel().\n",
      "  after removing the cwd from sys.path.\n",
      "C:\\Users\\sonih\\anaconda3\\lib\\site-packages\\ipykernel_launcher.py:4: DataConversionWarning: A column-vector y was passed when a 1d array was expected. Please change the shape of y to (n_samples, ), for example using ravel().\n",
      "  after removing the cwd from sys.path.\n",
      "C:\\Users\\sonih\\anaconda3\\lib\\site-packages\\ipykernel_launcher.py:4: DataConversionWarning: A column-vector y was passed when a 1d array was expected. Please change the shape of y to (n_samples, ), for example using ravel().\n",
      "  after removing the cwd from sys.path.\n",
      "C:\\Users\\sonih\\anaconda3\\lib\\site-packages\\ipykernel_launcher.py:4: DataConversionWarning: A column-vector y was passed when a 1d array was expected. Please change the shape of y to (n_samples, ), for example using ravel().\n",
      "  after removing the cwd from sys.path.\n"
     ]
    },
    {
     "name": "stderr",
     "output_type": "stream",
     "text": [
      "C:\\Users\\sonih\\anaconda3\\lib\\site-packages\\ipykernel_launcher.py:4: DataConversionWarning: A column-vector y was passed when a 1d array was expected. Please change the shape of y to (n_samples, ), for example using ravel().\n",
      "  after removing the cwd from sys.path.\n",
      "C:\\Users\\sonih\\anaconda3\\lib\\site-packages\\ipykernel_launcher.py:4: DataConversionWarning: A column-vector y was passed when a 1d array was expected. Please change the shape of y to (n_samples, ), for example using ravel().\n",
      "  after removing the cwd from sys.path.\n"
     ]
    }
   ],
   "source": [
    "error=[]\n",
    "for i in range(1,40):\n",
    "    knn=KNeighborsClassifier(n_neighbors=i)\n",
    "    knn.fit(X_train,y_train)\n",
    "    pred_i=knn.predict(X_test)\n",
    "    error.append(np.mean(pred_i != y_test))"
   ]
  },
  {
   "cell_type": "code",
   "execution_count": 26,
   "metadata": {},
   "outputs": [
    {
     "data": {
      "text/plain": [
       "Text(0, 0.5, 'error rate')"
      ]
     },
     "execution_count": 26,
     "metadata": {},
     "output_type": "execute_result"
    },
    {
     "data": {
      "image/png": "[encoded data removed]",
      "text/plain": [
       "<Figure size 720x432 with 1 Axes>"
      ]
     },
     "metadata": {
      "needs_background": "light"
     },
     "output_type": "display_data"
    }
   ],
   "source": [
    "plt.figure(figsize=(10,6))\n",
    "plt.plot(range(1,40),error,color='blue',linestyle='dashed',marker='o',markerfacecolor='red',markersize=10)\n",
    "plt.title('error rate vs value')\n",
    "plt.xlabel('K')\n",
    "plt.ylabel('error rate')"
   ]
  },
  {
   "cell_type": "code",
   "execution_count": 27,
   "metadata": {},
   "outputs": [
    {
     "name": "stderr",
     "output_type": "stream",
     "text": [
      "C:\\Users\\sonih\\anaconda3\\lib\\site-packages\\ipykernel_launcher.py:2: DataConversionWarning: A column-vector y was passed when a 1d array was expected. Please change the shape of y to (n_samples, ), for example using ravel().\n",
      "  \n"
     ]
    }
   ],
   "source": [
    "knn=KNeighborsClassifier(n_neighbors=20)\n",
    "knn.fit(X_train,y_train)\n",
    "y_p=knn.predict(X_test)"
   ]
  },
  {
   "cell_type": "code",
   "execution_count": 29,
   "metadata": {},
   "outputs": [
    {
     "data": {
      "text/plain": [
       "0.9415204678362573"
      ]
     },
     "execution_count": 29,
     "metadata": {},
     "output_type": "execute_result"
    }
   ],
   "source": [
    "accuracy_score(y_test,y_p)"
   ]
  }
 ],
 "metadata": {
  "kernelspec": {
   "display_name": "Python 3",
   "language": "python",
   "name": "python3"
  },
  "language_info": {
   "codemirror_mode": {
    "name": "ipython",
    "version": 3
   },
   "file_extension": ".py",
   "mimetype": "text/x-python",
   "name": "python",
   "nbconvert_exporter": "python",
   "pygments_lexer": "ipython3",
   "version": "3.7.6"
  }
 },
 "nbformat": 4,
 "nbformat_minor": 4
}
